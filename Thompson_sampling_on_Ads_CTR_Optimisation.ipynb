{
  "nbformat": 4,
  "nbformat_minor": 0,
  "metadata": {
    "colab": {
      "name": "Thompson_sampling_on_Ads_CTR_Optimisation.ipynb",
      "provenance": [],
      "collapsed_sections": []
    },
    "kernelspec": {
      "name": "python3",
      "display_name": "Python 3"
    }
  },
  "cells": [
    {
      "cell_type": "markdown",
      "metadata": {
        "id": "vPKTIRAtx232"
      },
      "source": [
        "# Thompson Sampling"
      ]
    },
    {
      "cell_type": "markdown",
      "metadata": {
        "id": "PqPv9zpAx-EE"
      },
      "source": [
        "## Importing the libraries"
      ]
    },
    {
      "cell_type": "code",
      "metadata": {
        "id": "lozuE-Fhx_QB"
      },
      "source": [
        "import numpy as np\n",
        "import matplotlib.pyplot as plt\n",
        "import pandas as pd"
      ],
      "execution_count": 1,
      "outputs": []
    },
    {
      "cell_type": "markdown",
      "metadata": {
        "id": "iqpVk5HhyGmO"
      },
      "source": [
        "## Importing the dataset"
      ]
    },
    {
      "cell_type": "code",
      "metadata": {
        "id": "kY4zzW4hyNfA"
      },
      "source": [
        "dataset = pd.read_csv('Ads_CTR_Optimisation.csv')"
      ],
      "execution_count": 2,
      "outputs": []
    },
    {
      "cell_type": "markdown",
      "metadata": {
        "id": "WqoXeWOYyQhB"
      },
      "source": [
        "## Implementing Thompson Sampling"
      ]
    },
    {
      "cell_type": "code",
      "metadata": {
        "id": "PCiHv51pyUII"
      },
      "source": [
        "import random\n",
        "N = 10000\n",
        "d = 10\n",
        "ads_selected = []\n",
        "numbers_of_rewards_1 = [0] * d\n",
        "numbers_of_rewards_0 = [0] * d\n",
        "total_reward = 0\n",
        "for n in range(0, N):\n",
        "  ad = 0\n",
        "  max_random = 0\n",
        "  for i in range(0, d):\n",
        "    random_beta = random.betavariate(numbers_of_rewards_1[i] + 1, numbers_of_rewards_0[i] + 1)\n",
        "    if (random_beta > max_random):\n",
        "      max_random = random_beta\n",
        "      ad = i\n",
        "  ads_selected.append(ad)\n",
        "  reward = dataset.values[n, ad]\n",
        "  if reward == 1:\n",
        "    numbers_of_rewards_1[ad] = numbers_of_rewards_1[ad] + 1\n",
        "  else:\n",
        "    numbers_of_rewards_0[ad] = numbers_of_rewards_0[ad] + 1\n",
        "  total_reward = total_reward + reward"
      ],
      "execution_count": 3,
      "outputs": []
    },
    {
      "cell_type": "markdown",
      "metadata": {
        "id": "tweWsgTHyXhv"
      },
      "source": [
        "## Visualising the results - Histogram"
      ]
    },
    {
      "cell_type": "code",
      "metadata": {
        "id": "k8DJmN06yak3",
        "colab": {
          "base_uri": "https://localhost:8080/",
          "height": 294
        },
        "outputId": "149c2b5d-8547-4ba9-e81b-9e64bbfb7741"
      },
      "source": [
        "plt.hist(ads_selected)\n",
        "plt.title('Histogram of ads selections')\n",
        "plt.xlabel('Ads')\n",
        "plt.ylabel('Number of times each ad was selected')\n",
        "plt.show()"
      ],
      "execution_count": 4,
      "outputs": [
        {
          "output_type": "display_data",
          "data": {
            "image/png": "[encoded data removed]",
            "text/plain": [
              "<Figure size 432x288 with 1 Axes>"
            ]
          },
          "metadata": {
            "needs_background": "light"
          }
        }
      ]
    },
    {
      "cell_type": "markdown",
      "metadata": {
        "id": "j6wKXOKrCDsC"
      },
      "source": [
        "## Alternative Visualising"
      ]
    },
    {
      "cell_type": "code",
      "metadata": {
        "colab": {
          "base_uri": "https://localhost:8080/"
        },
        "id": "IaCxL49UCJKs",
        "outputId": "99b1cc7c-60c7-4ffe-f447-9fb5a4b4ab74"
      },
      "source": [
        "pd.Series(ads_selected).head(10000).value_counts(normalize = True)"
      ],
      "execution_count": 5,
      "outputs": [
        {
          "output_type": "execute_result",
          "data": {
            "text/plain": [
              "4    0.9022\n",
              "7    0.0552\n",
              "3    0.0178\n",
              "1    0.0059\n",
              "0    0.0044\n",
              "2    0.0040\n",
              "5    0.0030\n",
              "6    0.0028\n",
              "9    0.0024\n",
              "8    0.0023\n",
              "dtype: float64"
            ]
          },
          "metadata": {},
          "execution_count": 5
        }
      ]
    },
    {
      "cell_type": "code",
      "metadata": {
        "colab": {
          "base_uri": "https://localhost:8080/"
        },
        "id": "Q7H_OY9BCOfy",
        "outputId": "9eaef9cc-d1c2-4889-fd9e-cf662ab8e01a"
      },
      "source": [
        "pd.Series(ads_selected).head(5000).value_counts(normalize = True)"
      ],
      "execution_count": 6,
      "outputs": [
        {
          "output_type": "execute_result",
          "data": {
            "text/plain": [
              "4    0.8654\n",
              "7    0.0588\n",
              "3    0.0314\n",
              "1    0.0106\n",
              "0    0.0082\n",
              "2    0.0072\n",
              "5    0.0054\n",
              "6    0.0046\n",
              "9    0.0042\n",
              "8    0.0042\n",
              "dtype: float64"
            ]
          },
          "metadata": {},
          "execution_count": 6
        }
      ]
    },
    {
      "cell_type": "code",
      "metadata": {
        "colab": {
          "base_uri": "https://localhost:8080/"
        },
        "id": "XB4Gu4EgCO5B",
        "outputId": "fa95df5b-b880-4f22-95b8-fa18836a7e7f"
      },
      "source": [
        "pd.Series(ads_selected).head(1000).value_counts(normalize = True)"
      ],
      "execution_count": 7,
      "outputs": [
        {
          "output_type": "execute_result",
          "data": {
            "text/plain": [
              "4    0.623\n",
              "3    0.114\n",
              "7    0.093\n",
              "1    0.039\n",
              "0    0.035\n",
              "2    0.030\n",
              "9    0.019\n",
              "5    0.017\n",
              "8    0.015\n",
              "6    0.015\n",
              "dtype: float64"
            ]
          },
          "metadata": {},
          "execution_count": 7
        }
      ]
    },
    {
      "cell_type": "code",
      "metadata": {
        "colab": {
          "base_uri": "https://localhost:8080/"
        },
        "id": "Bk9PTsTiCPHZ",
        "outputId": "7b7a8c07-daaf-43f4-aea2-b966da16caee"
      },
      "source": [
        "pd.Series(ads_selected).head(500).value_counts(normalize = True)"
      ],
      "execution_count": 8,
      "outputs": [
        {
          "output_type": "execute_result",
          "data": {
            "text/plain": [
              "4    0.404\n",
              "3    0.180\n",
              "7    0.142\n",
              "0    0.058\n",
              "1    0.056\n",
              "2    0.046\n",
              "5    0.032\n",
              "9    0.030\n",
              "8    0.026\n",
              "6    0.026\n",
              "dtype: float64"
            ]
          },
          "metadata": {},
          "execution_count": 8
        }
      ]
    },
    {
      "cell_type": "code",
      "metadata": {
        "colab": {
          "base_uri": "https://localhost:8080/"
        },
        "id": "gqnjX1-lCaQB",
        "outputId": "c02e0fb3-1f87-40c4-ff94-cbf82d5c33f1"
      },
      "source": [
        "pd.Series(ads_selected).head(400).value_counts(normalize = True)"
      ],
      "execution_count": 9,
      "outputs": [
        {
          "output_type": "execute_result",
          "data": {
            "text/plain": [
              "4    0.3450\n",
              "3    0.1675\n",
              "7    0.1625\n",
              "1    0.0675\n",
              "0    0.0675\n",
              "2    0.0525\n",
              "5    0.0375\n",
              "9    0.0350\n",
              "8    0.0325\n",
              "6    0.0325\n",
              "dtype: float64"
            ]
          },
          "metadata": {},
          "execution_count": 9
        }
      ]
    },
    {
      "cell_type": "code",
      "metadata": {
        "colab": {
          "base_uri": "https://localhost:8080/"
        },
        "id": "pbXOkI28Cd3a",
        "outputId": "ea2b1b53-954b-471d-b87c-720bf61a984c"
      },
      "source": [
        "pd.Series(ads_selected).head(350).value_counts(normalize = True)"
      ],
      "execution_count": 10,
      "outputs": [
        {
          "output_type": "execute_result",
          "data": {
            "text/plain": [
              "4    0.322857\n",
              "7    0.171429\n",
              "3    0.154286\n",
              "1    0.077143\n",
              "0    0.062857\n",
              "2    0.057143\n",
              "5    0.042857\n",
              "9    0.040000\n",
              "8    0.037143\n",
              "6    0.034286\n",
              "dtype: float64"
            ]
          },
          "metadata": {},
          "execution_count": 10
        }
      ]
    },
    {
      "cell_type": "code",
      "metadata": {
        "colab": {
          "base_uri": "https://localhost:8080/"
        },
        "id": "_h3TNKr5Cpny",
        "outputId": "7d413add-2c22-48ea-8745-0a8f82ba45ac"
      },
      "source": [
        "pd.Series(ads_selected).head(300).value_counts(normalize = True)"
      ],
      "execution_count": 11,
      "outputs": [
        {
          "output_type": "execute_result",
          "data": {
            "text/plain": [
              "4    0.293333\n",
              "7    0.180000\n",
              "3    0.133333\n",
              "1    0.083333\n",
              "0    0.066667\n",
              "2    0.063333\n",
              "5    0.050000\n",
              "9    0.046667\n",
              "8    0.043333\n",
              "6    0.040000\n",
              "dtype: float64"
            ]
          },
          "metadata": {},
          "execution_count": 11
        }
      ]
    }
  ]
}